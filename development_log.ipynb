{
 "cells": [
  {
   "cell_type": "markdown",
   "id": "9b2f3e8d",
   "metadata": {},
   "source": [
    "Previous experiment with training LoRAs weren't possible on the Mac, so just going to run a regular stable diffusion model."
   ]
  },
  {
   "cell_type": "markdown",
   "id": "675b5603",
   "metadata": {},
   "source": [
    "Based on advice from ChatGPT and my own research:\n",
    "\n",
    "- Next.js as it is a full package and is optimal for SEO\n",
    "- FastAPI (Python) for backend IF NEEDED due to familiarity and it's a modern technology\n",
    "- TailwindCSS for styling\n",
    "- EC2 for running the AI model (Stable Diffusion)\n",
    "- SQS for queueing system for now, will implement Kafka later\n",
    "- Redis useful for CV and good at general jobs, will implement later\n",
    "- DynamoDB for general storage\n",
    "- Firebase Auth + Stripe for authorisation and billing\n",
    "- CloudFront for CDN\n",
    "- ComfyUI + LoRA for generating images"
   ]
  },
  {
   "cell_type": "markdown",
   "id": "f1291b66",
   "metadata": {},
   "source": [
    "Next.js setup:\n",
    "\n",
    "npx create-next-app@latest my-ai-app\n",
    "cd my-ai-app\n",
    "\n",
    "say yes to all options\n",
    "\n",
    "cd my-ai-app to run"
   ]
  }
 ],
 "metadata": {
  "language_info": {
   "name": "python"
  }
 },
 "nbformat": 4,
 "nbformat_minor": 5
}
